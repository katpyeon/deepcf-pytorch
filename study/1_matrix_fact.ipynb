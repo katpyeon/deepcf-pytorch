{
 "cells": [
  {
   "cell_type": "code",
   "execution_count": 2,
   "id": "a0184f2c",
   "metadata": {},
   "outputs": [],
   "source": [
    "import numpy as np"
   ]
  },
  {
   "cell_type": "markdown",
   "id": "intro",
   "metadata": {},
   "source": [
    "# 행렬분해 (Matrix Factorization) 기초 이해하기\n",
    "\n",
    "추천 시스템에서 행렬분해는 사용자-항목 평점 행렬을 두 개의 저차원 행렬로 분해합니다:\n",
    "- 사용자 잠재 행렬 (P): 각 사용자의 선호를 잠재 요인으로 표현\n",
    "- 항목 잠재 행렬 (Q): 각 항목의 특성을 잠재 요인으로 표현\n",
    "\n",
    "핵심 아이디어: R = P x Q^T"
   ]
  },
  {
   "cell_type": "code",
   "execution_count": 3,
   "id": "rating_matrix",
   "metadata": {},
   "outputs": [
    {
     "name": "stdout",
     "output_type": "stream",
     "text": [
      "원본 평점 행렬 R (3명 사용자 x 4개 영화):\n",
      "[[5 3 0 1]\n",
      " [4 0 0 1]\n",
      " [1 1 5 4]]\n",
      "\n",
      "영화 설명:\n",
      "  영화 0, 1: 액션 영화\n",
      "  영화 2, 3: 로맨스 영화\n",
      "\n",
      "0 = 평점 없음 (예측 필요)\n"
     ]
    }
   ],
   "source": [
    "# 1. 원본 평점 행렬 (Rating Matrix)\n",
    "# 3명의 사용자 x 4개의 영화\n",
    "# 0은 평점이 없는 것 (예측해야 할 값)\n",
    "\n",
    "R = np.array([\n",
    "    [5, 3, 0, 1],  # 사용자 1: 액션 영화를 좋아함\n",
    "    [4, 0, 0, 1],  # 사용자 2: 액션 영화를 좋아함  \n",
    "    [1, 1, 5, 4],  # 사용자 3: 로맨스 영화를 좋아함\n",
    "])\n",
    "\n",
    "print(\"원본 평점 행렬 R (3명 사용자 x 4개 영화):\")\n",
    "print(R)\n",
    "print(\"\\n영화 설명:\")\n",
    "print(\"  영화 0, 1: 액션 영화\")\n",
    "print(\"  영화 2, 3: 로맨스 영화\")\n",
    "print(\"\\n0 = 평점 없음 (예측 필요)\")"
   ]
  },
  {
   "cell_type": "code",
   "execution_count": null,
   "id": "latent_factors",
   "metadata": {},
   "outputs": [],
   "source": [
    "# 2. 행렬분해: 잠재 요인 2개로 분해\n",
    "# 잠재 요인 k=2: [액션 선호도, 로맨스 선호도]\n",
    "\n",
    "# 사용자 잠재 행렬 P (3명 x 2개 잠재요인)\n",
    "P = np.array([\n",
    "    [0.9, 0.1],  # 사용자 1: 액션 선호 (높음), 로맨스 선호 (낮음)\n",
    "    [0.8, 0.2],  # 사용자 2: 액션 선호 (높음), 로맨스 선호 (낮음)\n",
    "    [0.1, 0.9],  # 사용자 3: 액션 선호 (낮음), 로맨스 선호 (높음)\n",
    "])\n",
    "\n",
    "# 항목 잠재 행렬 Q (4개 영화 x 2개 잠재요인)\n",
    "Q = np.array([\n",
    "    [0.95, 0.05],  # 영화 0: 액션 영화 (강함)\n",
    "    [0.85, 0.15],  # 영화 1: 액션 영화 (중간)\n",
    "    [0.05, 0.95],  # 영화 2: 로맨스 영화 (강함)\n",
    "    [0.10, 0.90],  # 영화 3: 로맨스 영화 (강함)\n",
    "])\n",
    "\n",
    "print(\"사용자 잠재 행렬 P (3 x 2):\")\n",
    "print(P)\n",
    "print(\"  각 행 = [액션 선호도, 로맨스 선호도]\\n\")\n",
    "\n",
    "print(\"항목 잠재 행렬 Q (4 x 2):\")\n",
    "print(Q)\n",
    "print(\"  각 행 = [액션 특성, 로맨스 특성]\")"
   ]
  },
  {
   "cell_type": "markdown",
   "id": "bfqd7mtvq1w",
   "metadata": {},
   "source": [
    "## 왜 Q를 전치(Transpose)해야 할까?\n",
    "\n",
    "행렬 곱셈을 하려면 **차원이 맞아야** 합니다!\n",
    "\n",
    "### 행렬 크기 확인\n",
    "- **R** (평점 행렬): 3 x 4 (3명 사용자 x 4개 영화)\n",
    "- **P** (사용자 잠재 행렬): 3 x 2 (3명 사용자 x 2개 잠재요인)\n",
    "- **Q** (항목 잠재 행렬): 4 x 2 (4개 영화 x 2개 잠재요인)\n",
    "\n",
    "### 행렬 곱셈 규칙\n",
    "(m x n) 행렬과 (n x p) 행렬을 곱하면 -> (m x p) 행렬이 됩니다.  \n",
    "**중요:** 첫 번째 행렬의 열 개수 = 두 번째 행렬의 행 개수 여야 곱셈 가능!\n",
    "\n",
    "### Q를 전치하지 않으면?\n",
    "```\n",
    "P x Q = (3 x 2) x (4 x 2) -> 불가능!\n",
    "        앞 열↑     ↑뒤 행\n",
    "        2 != 4 (차원이 안 맞음)\n",
    "```\n",
    "\n",
    "### Q를 전치하면 (Q.T)?\n",
    "```\n",
    "Q.T의 크기: 2 x 4 (행과 열이 바뀜)\n",
    "\n",
    "P x Q.T = (3 x 2) x (2 x 4) = (3 x 4) OK!\n",
    "          앞 열↑     ↑뒤 행\n",
    "          2 = 2 (차원이 맞음!)\n",
    "```\n",
    "\n",
    "결과가 3 x 4가 되어 **원래 평점 행렬 R과 같은 크기**가 됩니다!\n",
    "\n",
    "### 의미적으로 보면?\n",
    "- P의 i번째 행: 사용자 i의 잠재 벡터\n",
    "- Q.T의 j번째 열: 영화 j의 잠재 벡터  \n",
    "- P x Q.T의 [i, j] 원소: 사용자 i와 영화 j의 **내적 = 예측 평점**"
   ]
  },
  {
   "cell_type": "code",
   "execution_count": 7,
   "id": "reconstruction",
   "metadata": {},
   "outputs": [
    {
     "name": "stdout",
     "output_type": "stream",
     "text": [
      "Q의 전치 전후 비교:\n",
      "Q의 크기: (4, 2)\n",
      "[[0.95 0.05]\n",
      " [0.85 0.15]\n",
      " [0.05 0.95]\n",
      " [0.1  0.9 ]]\n",
      "\n",
      "Q.T의 크기: (2, 4)\n",
      "[[0.95 0.85 0.05 0.1 ]\n",
      " [0.05 0.15 0.95 0.9 ]]\n",
      "--------------------------------------------------\n",
      "\n",
      "예측된 평점 행렬 R_predicted = P x Q^T:\n",
      "[[0.86 0.78 0.14 0.18]\n",
      " [0.77 0.71 0.23 0.26]\n",
      " [0.14 0.22 0.86 0.82]]\n",
      "\n",
      "원본 평점 행렬 R (비교):\n",
      "[[5 3 0 1]\n",
      " [4 0 0 1]\n",
      " [1 1 5 4]]\n"
     ]
    }
   ],
   "source": [
    "# 3. 평점 행렬 재구성: R = P x Q^T\n",
    "\n",
    "print(\"Q의 전치 전후 비교:\")\n",
    "print(f\"Q의 크기: {Q.shape}\")\n",
    "print(Q)\n",
    "print(f\"\\nQ.T의 크기: {Q.T.shape}\")\n",
    "print(Q.T)\n",
    "print(\"-\" * 50)\n",
    "\n",
    "R_predicted = np.dot(P, Q.T)\n",
    "\n",
    "print(\"\\n예측된 평점 행렬 R_predicted = P x Q^T:\")\n",
    "print(np.round(R_predicted, 2))\n",
    "\n",
    "print(\"\\n원본 평점 행렬 R (비교):\")\n",
    "print(R)"
   ]
  },
  {
   "cell_type": "code",
   "execution_count": 8,
   "id": "single_prediction",
   "metadata": {},
   "outputs": [
    {
     "name": "stdout",
     "output_type": "stream",
     "text": [
      "사용자 0이 영화 2에 줄 평점 예측:\n",
      "  사용자 0 잠재 벡터: [0.9 0.1]\n",
      "  영화 2 잠재 벡터: [0.05 0.95]\n",
      "\n",
      "  계산: 0.90 x 0.05 + 0.10 x 0.95\n",
      "      = 0.0450 + 0.0950\n",
      "      = 0.1400\n",
      "\n",
      "  결론: 사용자 0은 로맨스 영화를 선호하지 않으므로 낮은 평점!\n"
     ]
    }
   ],
   "source": [
    "# 4. 개별 평점 예측 과정 상세 설명\n",
    "# 예: 사용자 0이 영화 2에 줄 평점 예측 (원본에서는 0)\n",
    "\n",
    "user_id = 0\n",
    "movie_id = 2\n",
    "\n",
    "user_vector = P[user_id]      # [0.9, 0.1]\n",
    "movie_vector = Q[movie_id]    # [0.05, 0.95]\n",
    "\n",
    "predicted_rating = np.dot(user_vector, movie_vector)\n",
    "\n",
    "print(f\"사용자 {user_id}이 영화 {movie_id}에 줄 평점 예측:\")\n",
    "print(f\"  사용자 {user_id} 잠재 벡터: {user_vector}\")\n",
    "print(f\"  영화 {movie_id} 잠재 벡터: {movie_vector}\")\n",
    "print(f\"\\n  계산: {user_vector[0]:.2f} x {movie_vector[0]:.2f} + {user_vector[1]:.2f} x {movie_vector[1]:.2f}\")\n",
    "print(f\"      = {user_vector[0] * movie_vector[0]:.4f} + {user_vector[1] * movie_vector[1]:.4f}\")\n",
    "print(f\"      = {predicted_rating:.4f}\")\n",
    "print(f\"\\n  결론: 사용자 {user_id}은 로맨스 영화를 선호하지 않으므로 낮은 평점!\")"
   ]
  },
  {
   "cell_type": "code",
   "execution_count": 9,
   "id": "another_prediction",
   "metadata": {},
   "outputs": [
    {
     "name": "stdout",
     "output_type": "stream",
     "text": [
      "사용자 2이 영화 1에 줄 평점 예측:\n",
      "  사용자 2 잠재 벡터: [0.1 0.9]\n",
      "  영화 1 잠재 벡터: [0.85 0.15]\n",
      "\n",
      "  계산: 0.10 x 0.85 + 0.90 x 0.15\n",
      "      = 0.0850 + 0.1350\n",
      "      = 0.2200\n",
      "\n",
      "  결론: 사용자 2은 액션 영화를 선호하지 않으므로 낮은 평점!\n"
     ]
    }
   ],
   "source": [
    "# 예: 사용자 2가 영화 1에 줄 평점 예측 (원본에서는 0)\n",
    "\n",
    "user_id = 2\n",
    "movie_id = 1\n",
    "\n",
    "user_vector = P[user_id]      # [0.1, 0.9]\n",
    "movie_vector = Q[movie_id]    # [0.85, 0.15]\n",
    "\n",
    "predicted_rating = np.dot(user_vector, movie_vector)\n",
    "\n",
    "print(f\"사용자 {user_id}이 영화 {movie_id}에 줄 평점 예측:\")\n",
    "print(f\"  사용자 {user_id} 잠재 벡터: {user_vector}\")\n",
    "print(f\"  영화 {movie_id} 잠재 벡터: {movie_vector}\")\n",
    "print(f\"\\n  계산: {user_vector[0]:.2f} x {movie_vector[0]:.2f} + {user_vector[1]:.2f} x {movie_vector[1]:.2f}\")\n",
    "print(f\"      = {user_vector[0] * movie_vector[0]:.4f} + {user_vector[1] * movie_vector[1]:.4f}\")\n",
    "print(f\"      = {predicted_rating:.4f}\")\n",
    "print(f\"\\n  결론: 사용자 {user_id}은 액션 영화를 선호하지 않으므로 낮은 평점!\")"
   ]
  },
  {
   "cell_type": "markdown",
   "id": "summary",
   "metadata": {},
   "source": [
    "## 핵심 요약\n",
    "\n",
    "1. 행렬분해의 목적: 고차원의 희소한 평점 행렬을 저차원의 밀집된 두 행렬로 분해\n",
    "\n",
    "2. 장점:\n",
    "   - 누락된 평점을 예측할 수 있음\n",
    "   - 잠재 요인으로 사용자/항목의 특성을 해석 가능\n",
    "   - 차원 축소로 계산 효율성 증가\n",
    "\n",
    "3. 실제 학습 과정:\n",
    "   - P와 Q는 임의로 초기화\n",
    "   - 경사하강법으로 실제 평점과 예측 평점의 차이를 최소화하도록 학습\n",
    "\n",
    "4. CFNet과의 차이:\n",
    "   - 전통적 행렬분해: 내적 (P_i dot Q_j) -> 스칼라 예측\n",
    "   - CFNet: 요소별 곱셈 (P_i * Q_j) -> 벡터 예측 -> 학습된 가중치로 최종 점수 계산"
   ]
  }
 ],
 "metadata": {
  "kernelspec": {
   "display_name": "base",
   "language": "python",
   "name": "python3"
  },
  "language_info": {
   "codemirror_mode": {
    "name": "ipython",
    "version": 3
   },
   "file_extension": ".py",
   "mimetype": "text/x-python",
   "name": "python",
   "nbconvert_exporter": "python",
   "pygments_lexer": "ipython3",
   "version": "3.13.5"
  }
 },
 "nbformat": 4,
 "nbformat_minor": 5
}
